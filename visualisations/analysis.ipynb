{
 "cells": [
  {
   "cell_type": "code",
   "execution_count": null,
   "metadata": {},
   "outputs": [],
   "source": [
    "import pandas as pd\n",
    "import plotly.express as px\n",
    "import seaborn as sns\n",
    "import matplotlib.pyplot as plt\n",
    "import numpy as np"
   ]
  },
  {
   "cell_type": "code",
   "execution_count": null,
   "metadata": {},
   "outputs": [],
   "source": [
    "df = pd.read_csv(\"../wrangling/uv_postcode_adelaide_combined.csv\")"
   ]
  },
  {
   "cell_type": "code",
   "execution_count": null,
   "metadata": {},
   "outputs": [],
   "source": [
    "df['Date-Time'] = pd.to_datetime(df['Date-Time'])"
   ]
  },
  {
   "cell_type": "markdown",
   "metadata": {},
   "source": [
    "## Visualising changes over time"
   ]
  },
  {
   "cell_type": "code",
   "execution_count": null,
   "metadata": {},
   "outputs": [],
   "source": [
    "fig = px.scatter_mapbox(df,\n",
    "                        lat=\"Lat\",lon=\"Lon\",\n",
    "                        color=\"UV_Index\",\n",
    "                        size=\"UV_Index\",\n",
    "                        animation_frame=df['Date-Time'].dt.strftime('%Y-%m-%d'),\n",
    "                        mapbox_style=\"carto-positron\",\n",
    "                        title='UV Index Changes Over Time')"
   ]
  },
  {
   "cell_type": "code",
   "execution_count": null,
   "metadata": {},
   "outputs": [],
   "source": [
    "fig.update_layout(\n",
    "    sliders=[{\n",
    "        \"currentvalue\": {\"prefix\": \"Date: \"},\n",
    "        \"transition\": {\"duration\": 100},  # Faster transitions\n",
    "    }],\n",
    "    updatemenus=[{\n",
    "        \"buttons\": [\n",
    "            {\"args\": [None, {\"frame\": {\"duration\": 20, \"redraw\": True},  # Faster playback\n",
    "                             \"fromcurrent\": True}], \n",
    "             \"label\": \"Play\", \n",
    "             \"method\": \"animate\"},\n",
    "            {\"args\": [[None], {\"frame\": {\"duration\": 0, \"redraw\": True},  # Pause instantly\n",
    "                               \"mode\": \"immediate\",\n",
    "                               \"transition\": {\"duration\": 0}}],\n",
    "             \"label\": \"Pause\",\n",
    "             \"method\": \"animate\"}\n",
    "        ],\n",
    "        \"direction\": \"left\",\n",
    "        \"pad\": {\"r\": 10, \"t\": 80},\n",
    "        \"showactive\": True,\n",
    "        \"type\": \"buttons\",\n",
    "        \"x\": 0.1,\n",
    "        \"xanchor\": \"right\",\n",
    "        \"y\": 0,\n",
    "        \"yanchor\": \"top\"\n",
    "    }]\n",
    ")\n",
    "\n",
    "fig.show()"
   ]
  },
  {
   "cell_type": "markdown",
   "metadata": {},
   "source": [
    "## Aggregate UV Index by Year and Month"
   ]
  },
  {
   "cell_type": "code",
   "execution_count": null,
   "metadata": {},
   "outputs": [],
   "source": [
    "df[\"year\"] = df['Date-Time'].dt.year\n",
    "df['month'] = df['Date-Time'].dt.month"
   ]
  },
  {
   "cell_type": "code",
   "execution_count": null,
   "metadata": {},
   "outputs": [],
   "source": [
    "df_trend = df.groupby(['year','month'])['UV_Index'].mean().reset_index()"
   ]
  },
  {
   "cell_type": "code",
   "execution_count": null,
   "metadata": {},
   "outputs": [],
   "source": [
    "plt.figure(figsize=(12,6))\n",
    "sns.lineplot(data=df_trend,x=\"month\",y=\"UV_Index\",hue=\"year\",marker=\"o\")\n",
    "\n",
    "plt.title('Year-wise Monthly UV Index Trend of Adelaide')\n",
    "plt.xlabel('Month')\n",
    "plt.ylabel('Average UV Index')\n",
    "plt.xticks(range(1,13), ['Jan','Feb','Mar','Apr','May','Jun','Jul','Aug','Sep','Oct','Nov','Dec'])\n",
    "plt.legend(title='Year')\n",
    "plt.grid(True)\n",
    "plt.show()"
   ]
  },
  {
   "cell_type": "code",
   "execution_count": null,
   "metadata": {},
   "outputs": [],
   "source": [
    "df_pivot = df_trend.pivot(index='year',columns='month',values='UV_Index')\n",
    "\n",
    "plt.figure(figsize=(10,6))\n",
    "sns.heatmap(df_pivot,cmap='YlOrRd',annot=True,fmt=\".1f\")\n",
    "\n",
    "plt.title('Adelaide UV Index Heatmap (Year vs Month)')\n",
    "plt.xlabel('Month')\n",
    "plt.ylabel('Year')\n",
    "plt.xticks(ticks=np.arange(12) + 0.5,labels=['Jan','Feb','Mar','Apr','May','Jun','Jul','Aug','Sep','Oct','Nov','Dec'])\n",
    "plt.show()"
   ]
  }
 ],
 "metadata": {
  "kernelspec": {
   "display_name": "base",
   "language": "python",
   "name": "python3"
  },
  "language_info": {
   "codemirror_mode": {
    "name": "ipython",
    "version": 3
   },
   "file_extension": ".py",
   "mimetype": "text/x-python",
   "name": "python",
   "nbconvert_exporter": "python",
   "pygments_lexer": "ipython3",
   "version": "3.12.4"
  }
 },
 "nbformat": 4,
 "nbformat_minor": 2
}
