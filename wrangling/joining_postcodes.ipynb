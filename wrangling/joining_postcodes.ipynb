{
 "cells": [
  {
   "cell_type": "code",
   "execution_count": 1,
   "metadata": {},
   "outputs": [],
   "source": [
    "import pandas as pd"
   ]
  },
  {
   "cell_type": "code",
   "execution_count": 5,
   "metadata": {},
   "outputs": [],
   "source": [
    "uv_adelaide_df = pd.read_csv('../datafiles/uv-adelaide-combined.csv')\n",
    "postcode_df = pd.read_csv('../datafiles/australian_postcodes.csv')"
   ]
  },
  {
   "cell_type": "code",
   "execution_count": 6,
   "metadata": {},
   "outputs": [],
   "source": [
    "postcode_df['lat_rounded'] = postcode_df['lat'].round(2)\n",
    "postcode_df['long_rounded'] = postcode_df['long'].round(2)"
   ]
  },
  {
   "cell_type": "code",
   "execution_count": 8,
   "metadata": {},
   "outputs": [],
   "source": [
    "uv_adelaide_df[\"lat_rounded\"] = uv_adelaide_df['Lat'].round(2)\n",
    "uv_adelaide_df['lon_rounded'] = uv_adelaide_df['Lon'].round(2)"
   ]
  },
  {
   "cell_type": "code",
   "execution_count": 10,
   "metadata": {},
   "outputs": [],
   "source": [
    "merged_df = uv_adelaide_df.merge(\n",
    "    postcode_df,\n",
    "    left_on=[\"lat_rounded\",\"lon_rounded\"],\n",
    "    right_on=[\"lat_rounded\",\"long_rounded\"],\n",
    "    how=\"left\"\n",
    ")"
   ]
  },
  {
   "cell_type": "code",
   "execution_count": 11,
   "metadata": {},
   "outputs": [],
   "source": [
    "merged_df.drop(columns=[\"lat_rounded\",\"long_rounded\"],inplace=True)"
   ]
  },
  {
   "cell_type": "code",
   "execution_count": 12,
   "metadata": {},
   "outputs": [],
   "source": [
    "merged_df.to_csv('uv_postcode_adelaide_combined.csv',index=False)"
   ]
  },
  {
   "cell_type": "code",
   "execution_count": 13,
   "metadata": {},
   "outputs": [
    {
     "name": "stdout",
     "output_type": "stream",
     "text": [
      "              Date-Time    Lat     Lon  UV_Index  lon_rounded  id  postcode  \\\n",
      "0  2019-01-01T00:00:00Z -34.95  138.52      0.01       138.52 NaN       NaN   \n",
      "1  2019-01-01T00:01:00Z -34.95  138.52      0.01       138.52 NaN       NaN   \n",
      "2  2019-01-01T00:02:00Z -34.95  138.52      0.01       138.52 NaN       NaN   \n",
      "3  2019-01-01T00:03:00Z -34.95  138.52      0.01       138.52 NaN       NaN   \n",
      "4  2019-01-01T00:04:00Z -34.95  138.52      0.01       138.52 NaN       NaN   \n",
      "\n",
      "  locality state  long  ...  altitude chargezone phn_code phn_name  lgaregion  \\\n",
      "0      NaN   NaN   NaN  ...       NaN        NaN      NaN      NaN        NaN   \n",
      "1      NaN   NaN   NaN  ...       NaN        NaN      NaN      NaN        NaN   \n",
      "2      NaN   NaN   NaN  ...       NaN        NaN      NaN      NaN        NaN   \n",
      "3      NaN   NaN   NaN  ...       NaN        NaN      NaN      NaN        NaN   \n",
      "4      NaN   NaN   NaN  ...       NaN        NaN      NaN      NaN        NaN   \n",
      "\n",
      "  lgacode  electorate electoraterating sed_code  sed_name  \n",
      "0     NaN         NaN              NaN      NaN       NaN  \n",
      "1     NaN         NaN              NaN      NaN       NaN  \n",
      "2     NaN         NaN              NaN      NaN       NaN  \n",
      "3     NaN         NaN              NaN      NaN       NaN  \n",
      "4     NaN         NaN              NaN      NaN       NaN  \n",
      "\n",
      "[5 rows x 46 columns]\n"
     ]
    }
   ],
   "source": [
    "print(merged_df.head())"
   ]
  }
 ],
 "metadata": {
  "kernelspec": {
   "display_name": "base",
   "language": "python",
   "name": "python3"
  },
  "language_info": {
   "codemirror_mode": {
    "name": "ipython",
    "version": 3
   },
   "file_extension": ".py",
   "mimetype": "text/x-python",
   "name": "python",
   "nbconvert_exporter": "python",
   "pygments_lexer": "ipython3",
   "version": "3.12.4"
  }
 },
 "nbformat": 4,
 "nbformat_minor": 2
}
